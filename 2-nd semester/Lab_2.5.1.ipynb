{
 "cells": [
  {
   "cell_type": "markdown",
   "id": "86f06aa6",
   "metadata": {},
   "source": [
    "Лабораторная работа 2.5.1"
   ]
  },
  {
   "cell_type": "markdown",
   "id": "d9522e37",
   "metadata": {},
   "source": [
    "Измерение коэффициента поверхностного натяжения жидкости."
   ]
  },
  {
   "cell_type": "code",
   "execution_count": null,
   "id": "5e9ab484",
   "metadata": {},
   "outputs": [],
   "source": [
    "from matplotlib import pyplot as plt\n",
    "import numpy as np\n",
    "from math import sqrt"
   ]
  },
  {
   "cell_type": "code",
   "execution_count": null,
   "id": "fb9019db",
   "metadata": {},
   "outputs": [],
   "source": [
    "# Const\n",
    "k_p = 0.2 * 9.81  # Перевод делений манометра в давление\n",
    "sigma_p = 0.1 * 9.81  # Погрешность манометра\n",
    "s_C2H5OH = 22.78e-3  # Коэффициент поверхностного натяжения спирта\n",
    "sigma_T = 0.1  # Погрешность термометра\n",
    "ro_H2O = 997  # Плотность воды\n",
    "g = 9.815  # Ускорение свободного падения\n",
    "sigma_H = 0.5e-3  # Погрешность линейки"
   ]
  },
  {
   "cell_type": "markdown",
   "id": "83c1fcc9",
   "metadata": {},
   "source": [
    "Предварительные измерения"
   ]
  },
  {
   "cell_type": "code",
   "execution_count": null,
   "id": "234c2421",
   "metadata": {},
   "outputs": [],
   "source": [
    "# Определение радиуса иглы по формуле Лапласа\n",
    "T_0 = 22.5  # Температура воды, C\n",
    "P_0_array = np.array([48, 49, 49, 49, 49]) * k_p  # Разница давления жидкости у поверхности и атмосферного\n",
    "P_0 = np.mean(P_0_array)  # Давление\n",
    "r_1 = 2 * s_C2H5OH / P_0  # Радиус иглы через формулу Лапласа\n",
    "sigma_p_0 = sqrt(sigma_p ** 2 + np.std(P_0_array) ** 2)\n",
    "sigma_r_1 = r_1 / P_0 * sigma_p_0  # Погрешность определения радиуса"
   ]
  },
  {
   "cell_type": "code",
   "execution_count": null,
   "id": "734c18d9",
   "metadata": {},
   "outputs": [],
   "source": [
    "# Измерение радиуса иглы микроскопом\n",
    "n = 23  # Деления\n",
    "sigma_n = 2.5  # Погрешность определения количества делений (смотрели под углом через камеру, видно плохо)\n",
    "d = 0.05e-3  # Цена деления\n",
    "r_2 = 0.5 * n * d  # Радиус трубы через микроскоп\n",
    "sigma_r_2 = 2.5 * d  # Погрешность определения радиуса"
   ]
  },
  {
   "cell_type": "code",
   "execution_count": null,
   "id": "52b9a5e4",
   "metadata": {},
   "outputs": [],
   "source": [
    "# Измерение давления на разных высотах в воде\n",
    "P_2_H1 = 135 * k_p  # Давление сверху, по 6-ти измерениям\n",
    "P_2_H2 = 224 * k_p  # Давление снизу, по 3-м измерениям\n",
    "H_1 = -52e-3\n",
    "H_2 = -71e-3\n",
    "delta_H = abs(H_2 - H_1)  # Разница высоты\n",
    "delta_P_m = abs(P_2_H2 - P_2_H1)  # Разница давлений по манометру\n",
    "sigma_P_m = 2 * sigma_p  # Погрешность определения разницы давлений по манометру\n",
    "delta_P_h = ro_H2O * g * delta_H  # Разница давлений по линейке\n",
    "sigma_P_h = delta_P_h / delta_H * 2 * sigma_H  # Погрешность опреденения разницы давлений по линейке"
   ]
  },
  {
   "cell_type": "markdown",
   "id": "6b93ee6d",
   "metadata": {},
   "source": [
    "Основные измерения"
   ]
  },
  {
   "cell_type": "code",
   "execution_count": null,
   "id": "18ff9f44",
   "metadata": {},
   "outputs": [],
   "source": [
    "T_1 = 22.8\n",
    "P_1 = 224 * k_p\n",
    "\n",
    "T_2 = 28.3\n",
    "P_2_array = np.array([221, 220.5, 220, 220, 220, 220]) * k_p\n",
    "P_2 = np.mean(P_2_array)\n",
    "sigma_p_2 = sqrt(sigma_p ** 2 + np.std(P_2_array) ** 2)\n",
    "\n",
    "T_3 = 34.2\n",
    "P_3_array = np.array([220, 220.5, 220.5, 220.5, 220.5]) * k_p\n",
    "P_3 = np.mean(P_3_array)\n",
    "sigma_p_3 = sqrt(sigma_p ** 2 + np.std(P_3_array) ** 2)\n",
    "\n",
    "T_4 = 38.5\n",
    "P_4 = 219.5 * k_p\n",
    "\n",
    "T_5 = 42.7\n",
    "P_5 = 218 * k_p\n",
    "\n",
    "T_6 = 47.9\n",
    "P_6 = 216.5 * k_p\n",
    "\n",
    "T_7 = 53\n",
    "P_7_array = np.array([215, 215, 214.5, 215]) * k_p\n",
    "P_7 = np.mean(P_7_array)\n",
    "sigma_p_7 = sqrt(sigma_p ** 2 + np.std(P_7_array) ** 2)\n",
    "\n",
    "T_8 = 58.2\n",
    "P_8_array = np.array([213, 213, 212.5, 212.5, 213]) * k_p\n",
    "P_8 = np.mean(P_8_array)\n",
    "sigma_p_8 = sqrt(sigma_p ** 2 + np.std(P_8_array) ** 2)"
   ]
  },
  {
   "cell_type": "code",
   "execution_count": 2,
   "id": "ea45c7f2",
   "metadata": {},
   "outputs": [
    {
     "ename": "NameError",
     "evalue": "name 'np' is not defined",
     "output_type": "error",
     "traceback": [
      "\u001b[1;31m---------------------------------------------------------------------------\u001b[0m",
      "\u001b[1;31mNameError\u001b[0m                                 Traceback (most recent call last)",
      "\u001b[1;32m~\\AppData\\Local\\Temp\\ipykernel_20496\\878952695.py\u001b[0m in \u001b[0;36m<module>\u001b[1;34m\u001b[0m\n\u001b[1;32m----> 1\u001b[1;33m \u001b[0mT\u001b[0m \u001b[1;33m=\u001b[0m \u001b[0mnp\u001b[0m\u001b[1;33m.\u001b[0m\u001b[0marray\u001b[0m\u001b[1;33m(\u001b[0m\u001b[1;33m[\u001b[0m\u001b[0mT_1\u001b[0m\u001b[1;33m,\u001b[0m \u001b[0mT_2\u001b[0m\u001b[1;33m,\u001b[0m \u001b[0mT_3\u001b[0m\u001b[1;33m,\u001b[0m \u001b[0mT_4\u001b[0m\u001b[1;33m,\u001b[0m \u001b[0mT_5\u001b[0m\u001b[1;33m,\u001b[0m \u001b[0mT_6\u001b[0m\u001b[1;33m,\u001b[0m \u001b[0mT_7\u001b[0m\u001b[1;33m,\u001b[0m \u001b[0mT_8\u001b[0m\u001b[1;33m]\u001b[0m\u001b[1;33m)\u001b[0m\u001b[1;33m\u001b[0m\u001b[1;33m\u001b[0m\u001b[0m\n\u001b[0m\u001b[0;32m      2\u001b[0m \u001b[0mP\u001b[0m \u001b[1;33m=\u001b[0m \u001b[0mnp\u001b[0m\u001b[1;33m.\u001b[0m\u001b[0marray\u001b[0m\u001b[1;33m(\u001b[0m\u001b[1;33m[\u001b[0m\u001b[0mP_1\u001b[0m\u001b[1;33m,\u001b[0m \u001b[0mP_2\u001b[0m\u001b[1;33m,\u001b[0m \u001b[0mP_3\u001b[0m\u001b[1;33m,\u001b[0m \u001b[0mP_4\u001b[0m\u001b[1;33m,\u001b[0m \u001b[0mP_5\u001b[0m\u001b[1;33m,\u001b[0m \u001b[0mP_6\u001b[0m\u001b[1;33m,\u001b[0m \u001b[0mP_7\u001b[0m\u001b[1;33m,\u001b[0m \u001b[0mP_8\u001b[0m\u001b[1;33m]\u001b[0m\u001b[1;33m)\u001b[0m\u001b[1;33m\u001b[0m\u001b[1;33m\u001b[0m\u001b[0m\n\u001b[0;32m      3\u001b[0m \u001b[0msigma_P\u001b[0m \u001b[1;33m=\u001b[0m \u001b[0mnp\u001b[0m\u001b[1;33m.\u001b[0m\u001b[0marray\u001b[0m\u001b[1;33m(\u001b[0m\u001b[1;33m[\u001b[0m\u001b[0msigma_p\u001b[0m\u001b[1;33m,\u001b[0m \u001b[0msigma_p_2\u001b[0m\u001b[1;33m,\u001b[0m \u001b[0msigma_p_3\u001b[0m\u001b[1;33m,\u001b[0m \u001b[0msigma_p\u001b[0m\u001b[1;33m,\u001b[0m \u001b[0msigma_p\u001b[0m\u001b[1;33m,\u001b[0m \u001b[0msigma_p\u001b[0m\u001b[1;33m,\u001b[0m \u001b[0msigma_p_7\u001b[0m\u001b[1;33m,\u001b[0m \u001b[0msigma_p_8\u001b[0m\u001b[1;33m]\u001b[0m\u001b[1;33m)\u001b[0m\u001b[1;33m\u001b[0m\u001b[1;33m\u001b[0m\u001b[0m\n\u001b[0;32m      4\u001b[0m \u001b[0ms_H2O\u001b[0m \u001b[1;33m=\u001b[0m \u001b[0mr_1\u001b[0m \u001b[1;33m/\u001b[0m \u001b[1;36m2\u001b[0m \u001b[1;33m*\u001b[0m \u001b[0mP\u001b[0m  \u001b[1;31m# Поверхностное натяжение воды\u001b[0m\u001b[1;33m\u001b[0m\u001b[1;33m\u001b[0m\u001b[0m\n\u001b[0;32m      5\u001b[0m \u001b[0msigma_s_H2o\u001b[0m \u001b[1;33m=\u001b[0m \u001b[0msigma_P\u001b[0m \u001b[1;33m/\u001b[0m \u001b[0mP\u001b[0m \u001b[1;33m*\u001b[0m \u001b[0ms_H2O\u001b[0m\u001b[1;33m\u001b[0m\u001b[1;33m\u001b[0m\u001b[0m\n",
      "\u001b[1;31mNameError\u001b[0m: name 'np' is not defined"
     ]
    }
   ],
   "source": [
    "T = np.array([T_1, T_2, T_3, T_4, T_5, T_6, T_7, T_8])\n",
    "P = np.array([P_1, P_2, P_3, P_4, P_5, P_6, P_7, P_8])\n",
    "sigma_P = np.array([sigma_p, sigma_p_2, sigma_p_3, sigma_p, sigma_p, sigma_p, sigma_p_7, sigma_p_8])\n",
    "s_H2O = r_1 / 2 * P  # Поверхностное натяжение воды\n",
    "sigma_s_H2o = sigma_P / P * s_H2O\n",
    "plt.scatter(T, s_H2O)"
   ]
  },
  {
   "cell_type": "code",
   "execution_count": null,
   "id": "4f6347e0",
   "metadata": {},
   "outputs": [],
   "source": [
    "# Вторая точка ошибочна, попробуем без неё\n",
    "T_new = np.array([T_1, T_3, T_4, T_5, T_6, T_7, T_8])\n",
    "P_new = np.array([P_1, P_3, P_4, P_5, P_6, P_7, P_8])\n",
    "sigma_P_new = np.array([sigma_p, sigma_p_3, sigma_p, sigma_p, sigma_p, sigma_p_7, sigma_p_8])\n",
    "s_H2O_new = r_1 / 2 * P_new  # Поверхностное натяжение воды\n",
    "plt.scatter(T_new, s_H2O_new)"
   ]
  },
  {
   "cell_type": "code",
   "execution_count": null,
   "id": "433e9795",
   "metadata": {},
   "outputs": [],
   "source": [
    "# Метод наименьших квадратов\n",
    "k = round((np.mean(T_new * s_H2O_new) - np.mean(T_new) * np.mean(s_H2O_new)) / (np.mean(T_new ** 2) - np.mean(T_new) ** 2), 7)\n",
    "b = round(np.mean(s_H2O_new) - k * np.mean(T_new), 7)\n",
    "sigma_k = round(sqrt(((np.mean(s_H2O_new ** 2) - np.mean(s_H2O_new) ** 2) / \n",
    "               (np.mean(T_new ** 2) - np.mean(T_new) ** 2)) - k ** 2) / sqrt(len(s_H2O_new)), 7) \n",
    "sigma_b = round(sigma_k * sqrt(np.mean(T_new ** 2) - np.mean(T_new) ** 2), 7)\n",
    "\n",
    "plt.plot(T_new, k * T_new + b, color='red')"
   ]
  },
  {
   "cell_type": "code",
   "execution_count": null,
   "id": "cca2f2b1",
   "metadata": {},
   "outputs": [],
   "source": [
    "q =  -k * (T_new + 273)\n",
    "plt.scatter(T_new, q)\n",
    "plt.plot(T_new, q)"
   ]
  },
  {
   "cell_type": "code",
   "execution_count": null,
   "id": "5e8ee9ff",
   "metadata": {},
   "outputs": [],
   "source": []
  }
 ],
 "metadata": {
  "kernelspec": {
   "display_name": "Python 3 (ipykernel)",
   "language": "python",
   "name": "python3"
  },
  "language_info": {
   "codemirror_mode": {
    "name": "ipython",
    "version": 3
   },
   "file_extension": ".py",
   "mimetype": "text/x-python",
   "name": "python",
   "nbconvert_exporter": "python",
   "pygments_lexer": "ipython3",
   "version": "3.9.13"
  }
 },
 "nbformat": 4,
 "nbformat_minor": 5
}
